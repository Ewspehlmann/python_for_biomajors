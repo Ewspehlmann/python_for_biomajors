{
 "cells": [
  {
   "cell_type": "markdown",
   "metadata": {},
   "source": [
    "# Python Functions \n",
    "## A way to compartmentalize code\n",
    "\n",
    "Functions are used to define a grouping of code performing a specific task. \\$f(x)$ as a function of x outputting some Y. Think of the code that you wrote that calculated BMI; this code could be written in a function with height and weight as its <b>parameters</b>. Functions remove duplicity and redundant code. Instead of having to write all the code to do some task explicitly, you can call a function that will execute the desired task. \n",
    "```python\n",
    "# functions contain compact operations \n",
    "import numpy as np\n",
    "ages = np.array([21,21,23,42,21,23,21])\n",
    "sumSoFar = 0\n",
    "length = 0 \n",
    "for age in ages:\n",
    "    sumSoFar += age\n",
    "    length += 1 \n",
    "mean = sumSoFar/length\n",
    "# without functions one would be forced to write code to calculate the length and mean \n",
    "# as above. We rely on len() and mean() to easily calculate these things \n",
    "length = len(ages)\n",
    "mean = mean(ages) \n",
    "```\n",
    "As you might realize, you've already started to use functions in your code! Where did these functions come from? Some functions are native to Python, they belong to the base package which is installed with python, think range(),type(),min(),str(),list(),len()... Other functions used have been imported from libraries such as numpy (num-pie) designed for mathematical analysis. In short,  functions are ubiquitous. \n",
    "\n",
    "\n",
    "## Structure of a function\n",
    "```python\n",
    "def average(listOfInts): #declaration and parameters \n",
    "    n = len(listOfInts)  #function body \n",
    "    summ =0 \n",
    "    for i in range(0,n):\n",
    "        summ += listOfInts[i]\n",
    "    return summ/n # return statement \n",
    "```\n",
    "<b>Declaration</b>: Using the Def keyword signals the interpretor to regard the next indented set of code as belonging to a function.\n",
    "\n",
    "<b>Parameters</b>: The inputs of the function, they can be anything from an int to a data structure\n",
    "\n",
    "<b>function body</b>: The contents of the code designated by indentations \n",
    "\n",
    "<b>return</b>: the return statement determines the output * a function doesnt need to return anything ,rendering it void\n",
    "\n",
    "\n",
    "## Different types of functions\n",
    "\n",
    "Python doesn't explicitly distinguish between void and return-type functions. The familiar functions are functions that return a value, avg = mean(ages). There are a whole class of functions that just do a set of procedures without returning anything. Such as, a function that will sort a list without returning a new one, these are void functions. \n",
    "\n",
    "#### void functions: performs a set of procedures without returning an object\n",
    "#### int,list,double,string,char, functions: performs a task that produces an output. \n",
    "\n",
    "The mean&len functions return an int. range() returns type range. \n",
    "\n",
    "## Declaring a function \n",
    "\n",
    "Python makes declaring functions easy. Using the Def keyword signals the interpretor to regard the next indented set of code as belonging to a function. Naming a function is constrained to the same naming conventions as naming a variable. \n",
    "### Syntax:\n",
    "after declaring a function the code below it must be indented over one tab from the DEF key word. if a loop is using in the function then that code must be tabbed over. <b>White space is the syntax of python!</b>\n",
    "```python\n",
    "\n",
    "def geneCreator(nucleotides = 3): #you can set base parameters, they can be overwritten\n",
    "    base = ['G','C','A','T']\n",
    "    gene =\"\"\n",
    "    for i in range(0,nucleotides):\n",
    "        gene +=base[np.random.randint(0,4)] #random index into bases\n",
    "    return gene \n",
    "geneCreator() # prints string of length 3\n",
    "geneCreator(184) #prints string of length 184\n",
    "```\n",
    "This block of code creates a function called geneCreator that creates a string containing strictly GCAT given the length as an argument. \n",
    "\n"
   ]
  },
  {
   "cell_type": "code",
   "execution_count": 2,
   "metadata": {},
   "outputs": [
    {
     "data": {
      "text/plain": [
       "'TTA'"
      ]
     },
     "execution_count": 2,
     "metadata": {},
     "output_type": "execute_result"
    }
   ],
   "source": [
    "def geneCreator(nucleotides = 3): \n",
    "    base = ['G','C','A','T']\n",
    "    gene =\"\"\n",
    "    for i in range(0,nucleotides):\n",
    "        gene +=base[np.random.randint(0,4)] #random index into bases\n",
    "    return gene \n",
    "geneCreator()"
   ]
  },
  {
   "cell_type": "markdown",
   "metadata": {},
   "source": [
    "# Scope: where variables can be accessed\n",
    "#### Now I can start talking about where variables are stored \n",
    "you might have noticed errors when you misspell a word and try and access the variable. The computer will get mad saying it doesn't exist. Similarly, if you try and access a <b>local variable</b> outside of its scope you will get the same error telling you it isn't defined. \n",
    "```python\n",
    "def geneCreator(nucleotides = 3): \n",
    "    base = ['G','C','A','T']\n",
    "    gene =\"\"\n",
    "    for i in range(0,nucleotides):\n",
    "        gene +=base[np.random.randint(0,4)] #random index into bases\n",
    "    return gene \n",
    "geneCreator(28)\n",
    "print(base[2]+'is equal to A')\n",
    "print(gene)\n",
    "```\n",
    "Both of these print statements will cause an error. base and gene have been defined only in the function not in the <b> global scope</b>. \n",
    "<b>global</b>: defining a variable or function that has global scope, it is held in memory and won't disappear until the code is terminated \n",
    "<b>local</b>:defining a variable that has been defined in a local environment; in a function, in a loop, or in a anonymous function. \n",
    "\n",
    "## Scope Exercise \n",
    "##### label the scope of the variables defined below \n"
   ]
  },
  {
   "cell_type": "code",
   "execution_count": 9,
   "metadata": {},
   "outputs": [
    {
     "data": {
      "image/png": "[encoded data removed]",
      "text/plain": [
       "<Figure size 360x360 with 1 Axes>"
      ]
     },
     "metadata": {
      "needs_background": "light"
     },
     "output_type": "display_data"
    }
   ],
   "source": [
    "from datetime import datetime\n",
    "from datetime import timedelta\n",
    "import matplotlib.pyplot as plt\n",
    "import numpy as np\n",
    "weightLB = 149 #scope: global or local to something \n",
    "name = 'Lance' #scope: \n",
    "def plotWeight(pName,pWeight):\n",
    "    dates = np.array([datetime.now().strftime('%m/%d')]) #scope:\n",
    "    weights =np.array([pWeight]) #scope:\n",
    "    dateString = lambda x: x.strftime('%m/%d')\n",
    "    for i in range(1,10): \n",
    "        dates = np.append(dates, [(datetime.now()+timedelta(days=i)).strftime('%m/%d')]) \n",
    "        weights = np.append(weights,[weights[0]+np.random.randint(0,10)])\n",
    "        #challenge: what is the scope of i? \n",
    "    fig, ax = plt.subplots(1,1,figsize=(5,5))\n",
    "    ax.plot(dates,weights, color = 'skyblue',marker ='*',linestyle='dashed',markersize=10)\n",
    "    ax.set_title(pName+\"'s weight over 10 day span\")\n",
    "    ax.set_xticklabels(dates,rotation=-40)\n",
    "    ax.set_ylabel('Pounds')\n",
    "    ax.set_xlabel('Days')\n",
    "    plt.show()\n",
    "\n",
    "plotWeight(name,weightLB)\n",
    "\n",
    "#weightLB: global... we can call it still!\n",
    "#print(weightLB)\n",
    "#name: global\n",
    "#dates: local to the function plotWeight\n",
    "#weights: local to the function plotWeight\n",
    "#i: local to the for-loop\n",
    "\n",
    "    "
   ]
  },
  {
   "cell_type": "code",
   "execution_count": null,
   "metadata": {},
   "outputs": [],
   "source": [
    "#%load exercises/exercise_functions_1.py"
   ]
  },
  {
   "cell_type": "code",
   "execution_count": null,
   "metadata": {},
   "outputs": [],
   "source": [
    "#%load Answers/answer_functions_1.py"
   ]
  }
 ],
 "metadata": {
  "kernelspec": {
   "display_name": "Python 3",
   "language": "python",
   "name": "python3"
  },
  "language_info": {
   "codemirror_mode": {
    "name": "ipython",
    "version": 3
   },
   "file_extension": ".py",
   "mimetype": "text/x-python",
   "name": "python",
   "nbconvert_exporter": "python",
   "pygments_lexer": "ipython3",
   "version": "3.7.3"
  }
 },
 "nbformat": 4,
 "nbformat_minor": 2
}
