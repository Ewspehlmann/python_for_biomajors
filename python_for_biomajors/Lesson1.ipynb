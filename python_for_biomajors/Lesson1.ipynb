{
 "cells": [
  {
   "cell_type": "code",
   "execution_count": 20,
   "metadata": {},
   "outputs": [],
   "source": [
    "# Let printing work the same in Python 2 and 3\n",
    "from __future__ import print_function\n",
    "import numpy as np\n",
    "import math\n",
    "import os\n",
    "import pandas as pd\n",
    "from matplotlib import pyplot as plt"
   ]
  },
  {
   "cell_type": "markdown",
   "metadata": {},
   "source": [
    "## Today starts your programmatic journey towards mastering Python. These tutorials will be rather pragmatic in its teaching of python, however if the computer science explaination is desired please let me know! \n",
    "First, why Python!\n",
    "Python is an excellent beginner program language because it is readable, supports many paradigmns (functional [R], Object oriented [java], and procedural), many many packages. Python is an interpreted language, meaning, you dont need to download a Python compiler for the language to run! In addition interpreted languages are interpreted line by line thus errors are found immediately rather than at compile time ( unless, the error is a runtime/logical error). \n",
    "Python can do many things with very few lines of code. For Example lets count base pairs! \n",
    "# Example 1: python is elegant \n",
    "\n"
   ]
  },
  {
   "cell_type": "code",
   "execution_count": null,
   "metadata": {},
   "outputs": [],
   "source": [
    "textfile = \"Data/HERC2.txt\"\n",
    "gene = open(textfile,\"r\")\n",
    "geneName = \"HERC2\"\n",
    "g,c,a,t = 0,0,0,0\n",
    "gcContent=0\n",
    "gene.readline()\n",
    "for line in gene: #iterates through each line\n",
    "    line=line.lower()\n",
    "    \n",
    "    for nucleotide in line: #iterates through each gene and counts bases\n",
    "        if nucleotide == \"g\":\n",
    "            g+=1\n",
    "        if nucleotide == \"a\":\n",
    "            c+=1\n",
    "        if nucleotide == \"c\":\n",
    "            t+=1\n",
    "        if nucleotide == \"t\":\n",
    "            a+=1\n",
    "print(\"number of g's:\" + str(g))\n",
    "print(\"number of c's:\" + str(c))\n",
    "print(\"number of t's:\" + str(t))\n",
    "print(\"number of a's:\" + str(a))\n",
    "total = g+c+a+t # adds all base pairs together \n",
    "gcContent = (((g+c+.0)/(total))*100) #gc content expressed as a percentage\n",
    "gcatDict ={'Guanine': g,\n",
    "           'cytosine':c,\n",
    "           'thymine':t,\n",
    "           'adenine':a,\n",
    "           'GC content':gcContent}\n",
    "print(\"the gccontent of \"+geneName+\" equals: \"+ str(gcContent))\n",
    "\n",
    "fig, ax = plt.subplots(figsize=(6, 3), subplot_kw=dict(aspect=\"equal\"))\n",
    "gcta = [g,c,t,a]\n",
    "labels=[\"guanine\", \"cytosine\", \"thymine\", \"adenine\"]\n",
    "\n",
    "#a bit of visualization for some added pizzazz! \n",
    "#This will all be covered in the visualization lesson! \n",
    "def func(pct, allvals):\n",
    "    absolute = int(pct/100.*np.sum(allvals))\n",
    "    return \"{:.1f}%\\n({:d} pairs)\".format(pct, absolute)\n",
    "\n",
    "\n",
    "wedges, texts, autotexts = ax.pie(gcta, autopct=lambda pct: func(pct, gcta),\n",
    "                                  textprops=dict(color=\"w\"))\n",
    "\n",
    "ax.legend(wedges, labels,\n",
    "          title=\"base pairs\",\n",
    "          loc=\"center left\",\n",
    "          bbox_to_anchor=(1, 0, 0.5, 1))\n",
    "\n",
    "plt.setp(autotexts, size=8, weight=\"bold\")\n",
    "\n",
    "ax.set_title(geneName +\":basepairs\")\n",
    "print()\n",
    "plt.show()\n"
   ]
  },
  {
   "cell_type": "markdown",
   "metadata": {},
   "source": [
    "## lets begin setting up  (Python Installiation) \n",
    "\n",
    "https://www.codecademy.com/articles/install-python3, this link will teach you how to download python 3. Once that is complete i recommend downloading miniconda or anaconda. Both features many python related software. Anaconda provides all the necessary tools in python without individually installing every package (a group of code/functions). Miniconda provides slightly less verisility but will suffice for our needs! \n",
    "https://www.anaconda.com \n",
    "Now lets luanch this tutorial in a jupyter notebook. In your command line type:\n",
    "mkdir python_bio_tutorial\n",
    "cd python_bio_tutorial \n",
    "git clone ()\n",
    "jupyter notebook\n",
    "if all goes well you should have a jupyter notebook up and running on a local environment!\n",
    "\n",
    "\n",
    "\n"
   ]
  },
  {
   "cell_type": "markdown",
   "metadata": {},
   "source": [
    "## Data Types\n",
    "Python's syntax is beautiful in its simplicity. The main governance of Python's syntax is white space. White space is the ubiquitous structure. Indentation defines the scope of the code.\n",
    "\n",
    "Assignment: Python is all dynamically typed and implicit in its variable assignment, meaning python will handle your variable types. Instead of int temp = 67 you can write temp =67 and python will behave knowing temp is an int.\n",
    "Python is heavily object oriented. All the below examples are objects! We say that x1 points to the object storing a two. x1-> 2. Variables can point to each other. Assignment_ex \n",
    "\n",
    "Data Types: To know the specific data type of the object you cane use the type() function. Essentially the type of object will determine how the interpret will interact with it. \n",
    "EX2\n"
   ]
  },
  {
   "cell_type": "code",
   "execution_count": 2,
   "metadata": {},
   "outputs": [
    {
     "name": "stdout",
     "output_type": "stream",
     "text": [
      "2----><class 'int'>\n",
      "3.3----><class 'float'>\n",
      "c----><class 'str'>\n",
      "cats----><class 'str'>\n",
      "False----><class 'bool'>\n",
      "[1, 2, 3]----><class 'list'>\n",
      "(3, 4)----><class 'tuple'>\n"
     ]
    },
    {
     "data": {
      "text/plain": [
       "'dogscats'"
      ]
     },
     "execution_count": 2,
     "metadata": {},
     "output_type": "execute_result"
    }
   ],
   "source": [
    "x1 = 2 # int\n",
    "assignment_ex  = x1 # Assignment_ex  points to the same object as x1 \n",
    "assignment_ex  = 3 # Assignment_ex  now points to a new object storing a 3\n",
    "Assignment_ex  = \"im a string now!\" # Assignment_ex  now points to an object of a differing data type!\n",
    "x2 = 3.3 #float \n",
    "x3 = 'c' # char\n",
    "x4 = 'cats' # string\n",
    "x5 = False # bool \n",
    "x6 = True\n",
    "x7 = ['zebra',4,True,'3',5,False] #list\n",
    "x8 = (3,2) # tuple\n",
    "x=[2,3.3,'c','cats',False,[1,2,3],(3,4)]\n",
    "for data in x:\n",
    "    print(data,type(data),sep=\"---->\")\n",
    "\n",
    "EX2 = \"dogs\"\n",
    "EX2 = EX2+x4 # this will compile , concatenation will take place (adding two strings)\n",
    "EX2\n",
    "#EX2 = EX2 + x1  ERROR \"can only concatenate str (not \"int\") to str\"\n",
    "#this is because the addition opperator behaves differntly when the object is of type string!"
   ]
  },
  {
   "cell_type": "markdown",
   "metadata": {},
   "source": [
    "## Python as a Calculator \n",
    "arithmetic operators in python include: +,-,%,/,//,**\n",
    "try and type some code and figure out the function of the unfamiliar operators! \n",
    "whats the difference between 53/5 and 53//5 ?\n",
    "what does % compute 53%5 =? \n",
    "what does 4**5 compute? \n",
    "\n",
    "\n",
    "\n",
    "### when you are done writing your equations try storing the answers as variables! "
   ]
  },
  {
   "cell_type": "code",
   "execution_count": null,
   "metadata": {
    "scrolled": true
   },
   "outputs": [],
   "source": [
    "#give it a shot!\n",
    "3+4"
   ]
  },
  {
   "cell_type": "markdown",
   "metadata": {},
   "source": [
    "##Quadratic Formula Practice\n",
    "\n",
    "![quad.png](attachment:quad.png)\n"
   ]
  },
  {
   "cell_type": "code",
   "execution_count": null,
   "metadata": {},
   "outputs": [],
   "source": [
    "#%load exercises/exercise_1.py\n"
   ]
  },
  {
   "cell_type": "markdown",
   "metadata": {},
   "source": [
    "## Chars & Strings \n",
    "Chars are single characters whereas strings are strings of characters. Strings can be manipulated with a variety of functions. Strings are immutable, they cannot be modified after creation.\n",
    "lets explore some common string manipulation tasks"
   ]
  },
  {
   "cell_type": "code",
   "execution_count": null,
   "metadata": {},
   "outputs": [],
   "source": [
    "textfile = \"Data/HERC2.txt\"\n",
    "gene = open(textfile,\"r\")\n",
    "line_1 = gene.read()[100:120] #takes chars 100through 120\n",
    "line_2 = gene.read()[200:220]\n",
    "#opens and reads the text file\n",
    "\n",
    "# first lets look at what nucleotides we captured! use the print function! to print line_! and line_2\n",
    "\n",
    "#now lets create a substring, first look at [] indexing! \n",
    "#can you grab the first 10 Bases?\n",
    "#line_1[?:?] #indexing starts at 0 \n",
    "\n",
    "#lets make the letters undercase try using .lower() then convert back to upper with upper()\n",
    "#lower=\n",
    "#back_to_upper=\n",
    "\n",
    "#rindex() often we search a string for a particular occurence of a character \n",
    "# rindex() returns the position of the first occurence of the input\n",
    "\n",
    "#first_pos_of_A= \n",
    "\n",
    "#the count() function counts the number of substring occurences.\n",
    "#use count to calculate the number of T's\n",
    "\n",
    "#num_of_t = \n",
    "\n",
    "\n"
   ]
  },
  {
   "cell_type": "markdown",
   "metadata": {},
   "source": [
    "## Default Python Data Structures \n",
    "### lists!\n",
    "list are ordered and mutable collections of data. list are instantiated with square brackets. \n",
    "List in python can change is size unlike arrays in Java. list are often used to story data categorical and numeric data.\n",
    "The following exercise should get you familiar with using list"
   ]
  },
  {
   "cell_type": "code",
   "execution_count": null,
   "metadata": {},
   "outputs": [],
   "source": [
    "animals=[\"dog\",\"cat\",\"goat\",\"chicken\",\"eel\",\"lemon peel\",\"zebra\"]\n",
    "#using len()\n",
    "sep = \"*-------------------------------------------*\"\n",
    "animal_length =len(animals) #len() returns the number of elements in the list \n",
    "print(sep)\n",
    "print(\"using index opperators:\")\n",
    "print(\"using len\",animal_length)\n",
    "# list are indexed starting at 0 up to length - 1\n",
    "print(\"first index posistion at 0:\",animals[0])\n",
    "print(\"last index n-1:\",animals[animal_length-1]) #animals[7] will return an error! \"out of bounds\" -> index starts at 0\n",
    "#very important for when looping through lists\n",
    "print(\"Indexing form the end using -1:\",animals[-1])#prints the last element \n",
    "# index slicing \n",
    "# a semicolon is used to select a range of values to print\n",
    "print(sep)\n",
    "print(\"slicing:\\n[0:2]\",animals[0:2])# grabs the first 2 elements\n",
    "print(\"[:2] \",animals[:2])\n",
    "print(\"[2:]\",animals[2:])\n",
    "print(\"comparing the two slices: \", animals[0:2]==animals[0:2],\"\\n\") # these are equivalent, also notice how a bool True is printed!\n",
    "print(sep)\n",
    "print(\"using list functions\")\n",
    "#using append() to add to the list \n",
    "animals.append(\"giraffe\")\n",
    "print(\"APPENDING GIRAFFE:\",animals)\n",
    "#use insert(place,value) to specify where to add an element\n",
    "animals.insert(3,\"koala\")\n",
    "print(\"INSERT KOALA USING INSERT:\",animals)\n",
    "#using pop() to remove and return the last value from the list\n",
    "print(\"POPPING:\",animals.pop())\n",
    "print(\"LAST ELEMENT WAS POPPED OFF:\",animals)\n",
    "# you can reassign a position value\n",
    "animals[2]=\"zebra fish\"\n",
    "print(\"CHANGING VALUE AT POSITION NUMBER 2:\",animals)\n",
    "#Removing items\n",
    "del animals[4:6]\n",
    "print(\"removed the 4-6 items:\",animals)\n",
    "#using remove to remove specific index\n",
    "#remove doesnt return the object, pop does \n",
    "animals.remove(\"lemon peel\")\n",
    "print(\"USING REMOVE(lemon peel) TO REMOVE A SPECIFC VALUE:\",animals)\n",
    "print(sep)\n",
    "print(\"references and pointers demonstration!\")\n",
    "#if you want to copy a list to a new item use .copy()\n",
    "animals2 = animals # will make a reference \n",
    "print(animals2)\n",
    "print(\"animals2 id:\",id(animals2))\n",
    "print(\"animals id:\",id(animals))\n",
    "print(\"they are the same reference to the same object!\")\n",
    "print(\"look what happens when we mutate the first list!\")\n",
    "print(\"DELETING VALUES 1-3 ON ORIGINAL ANIMALS\")\n",
    "del animals[1:3]\n",
    "print(\"animals2 changes!:\",animals2)\n",
    "print(\"animals2 changed because it references the same object as animals, it points to animals!\")\n",
    "print(\" thus, we use copy to make a copy without referencing the original object\")\n",
    "print(\"COPYING ANIMALS USING COPY\")\n",
    "animals2 = animals.copy()\n",
    "animals.clear() # use clear to wipe the list clean\n",
    "print(\"CLEARING ORIGINAL ANIMALS:\",animals)\n",
    "print(\"no change to animals2:\",animals2)\n",
    "#always keep track of your object references!"
   ]
  },
  {
   "cell_type": "markdown",
   "metadata": {},
   "source": [
    "## Numpy arrays\n",
    "the numpy array np.array([1,2,3,4]) is a beautiful vector data structure that can be used for representing phenomenon! Images are stored as 2D arrays! Old video game sprite maps were 2D bit maps! images in graphic librarys are almost always represented as arrays. Arrays make vector math easy! \n",
    "```python\n",
    "from pyomo.environ import *\n",
    "model = Concretemodel()\n",
    "temp_fahrenheit = np.array([80,23,30,67])\n",
    "sub_32 = temp_fahrenheit - 32 #vector math, all nums get subtracted by 32\n",
    "temp_cel = temp_fahrenheit * (5/9) # vector multiplication\n",
    "print(temp_cel)\n",
    "\n",
    "```\n",
    "this is really really transformative for doing operations \n",
    "think of all the repetition in statistics or genetic calculations \n",
    "these can be replaced by vector math! "
   ]
  },
  {
   "cell_type": "code",
   "execution_count": null,
   "metadata": {},
   "outputs": [],
   "source": [
    "#%load exercises/exercise_numpy_2.py\n",
    "\n"
   ]
  },
  {
   "cell_type": "code",
   "execution_count": null,
   "metadata": {},
   "outputs": [],
   "source": [
    "#%load Answers/answers_numpy_2.py\n",
    "\n"
   ]
  },
  {
   "attachments": {
    "truth.png": {
     "image/png": "[encoded data removed]"
    }
   },
   "cell_type": "markdown",
   "metadata": {},
   "source": [
    "### Bools and Conditions \n",
    "Boolean logic is a formal branch of mathematics dealing with discrete values. In python we use booleans as part of a control flow. A bool is binary in nature, containing the value True or False. Many loops and conditionals function using boolean statements. \n",
    "\n",
    "Boolean operators: \n",
    "and: used to join expressions with AND if(10 and 11), Both expressions have to be true to be evaluated as true\n",
    "or: used to join expressions with OR, one expression has to be true to be evaluated as true.\n",
    "not: inverse of expression \n",
    "\n",
    "true tables:\n",
    "\n",
    "![truth.png](attachment:truth.png)\n",
    "\n",
    "\n",
    "\n",
    "IF(condition) will execute commands if the condition is true. The condition can be any expression that can return a Bool value.\n",
    "\n",
    "if(x>10):\n",
    "    #process\n",
    "else:\n",
    "    #Some other process\n",
    "\n",
    "ELSE is used to specify what should happen if the condition isnt reached. One armed IF's are ok , Not every IF needs and ELSE. \n",
    "\n",
    "if(plant has seeds && is edible):\n",
    "    print(\"plant is a fruit\")\n",
    "\n",
    "else (plant ! has seeds && is edible):\n",
    "    print( \"plant is a veggie\")\n",
    "    \n",
    "    \n",
    "ELSE IF is used to specify another conditional after the first if\n",
    "\n",
    "if(temp == hot and season == summer):\n",
    "    swim \n",
    "\n",
    "else if (temp == hot and season == winter):\n",
    "    complain about global warming \n",
    "\n",
    "else:\n",
    " its cold out \n"
   ]
  },
  {
   "cell_type": "code",
   "execution_count": null,
   "metadata": {},
   "outputs": [],
   "source": [
    "# %load exercises/exercise_booleans_1.py\n",
    "#%load Answers/answer_booleans_1.py\n"
   ]
  },
  {
   "cell_type": "markdown",
   "metadata": {},
   "source": [
    "## Iteration, While-Loops, For-Loops, For-each-Loop\n",
    "\n",
    "#### while and for loop represent 2  python primitive iterators \n",
    "while and for loops are used to sequentially or conditionally iterate through data. "
   ]
  },
  {
   "cell_type": "markdown",
   "metadata": {},
   "source": [
    "## While():\n",
    "\n",
    "While(condition ==  true):\n",
    "    Do Body of Loop \n",
    "\n",
    "Think of task that will happen until a condition is reached then the function stops... lets work with a thermostat\n",
    "While loops can be used to describe feedback loops.\n",
    "while the temperature is not 75 heat the house. Once the condition is reached the task will shut down.\n",
    "Biologically,  processes that maintain homeostasis can be described accurately with while loops. \n",
    "\n",
    "##### while(temp <= 98.6):\n",
    "     produce heat -> shiver, increase metabolism, vasodilate\n",
    "    \n",
    "In python the code underneath the while loop will happen until the condition becomes false! \n",
    "thus once the temp is 98.6 shivering will stop.\n",
    "\n",
    "lets code this example! "
   ]
  },
  {
   "cell_type": "code",
   "execution_count": 11,
   "metadata": {},
   "outputs": [
    {
     "name": "stdout",
     "output_type": "stream",
     "text": [
      "shiver 95\n",
      "shiver 96\n",
      "shiver 97\n",
      "shiver 98\n"
     ]
    }
   ],
   "source": [
    "#using while loops\n",
    "body_temp = 95 # hypothermic individual \n",
    "healthy_temp = 98.6\n",
    "while(body_temp <= healthy_temp):\n",
    "    print(\"shiver\", body_temp)\n",
    "    body_temp+=1\n"
   ]
  },
  {
   "cell_type": "markdown",
   "metadata": {},
   "source": [
    "Factorial $f(x) = n!$ (1*2*3*4*5*6*(n-1)*n) \n",
    "use a while loop to solve 12 factorial"
   ]
  },
  {
   "cell_type": "markdown",
   "metadata": {},
   "source": [
    "###using break\n",
    "a break is a keyword that will exit the scope of the loop, moving on to the later code\n",
    "this has specific use cases like error reaction or domain specific functions\n",
    "EX: if a stop codon is detected break from the loop \n",
    "\n",
    "Notice in the example below how the loop exited prematurely at count 5 "
   ]
  },
  {
   "cell_type": "code",
   "execution_count": 12,
   "metadata": {},
   "outputs": [
    {
     "name": "stdout",
     "output_type": "stream",
     "text": [
      "rustle 1\n",
      "rustle 2\n",
      "rustle 3\n",
      "rustle 4\n",
      "ROAR 5\n",
      "run 5\n"
     ]
    }
   ],
   "source": [
    "### Example\n",
    "outsideNoise = [\"rustle\",\"rustle\",\"rustle\",\"rustle\",\"rustle\",\"ROAR\",\"rustle\"]\n",
    "count=0\n",
    "while(outsideNoise):#this can be evaluated as \"while outsideNoise has items \"\n",
    "    if(outsideNoise[count] == \"ROAR\"):\n",
    "        break\n",
    "    count+=1\n",
    "    print(outsideNoise[count],count)\n",
    "print(\"run\",count)"
   ]
  },
  {
   "cell_type": "markdown",
   "metadata": {},
   "source": [
    "## Loop Practice "
   ]
  },
  {
   "cell_type": "code",
   "execution_count": null,
   "metadata": {},
   "outputs": [],
   "source": [
    "#%load exercises/exercise_loops_1.py"
   ]
  },
  {
   "cell_type": "code",
   "execution_count": null,
   "metadata": {},
   "outputs": [],
   "source": [
    "#%load Answers/answer_loops_1.py"
   ]
  },
  {
   "cell_type": "code",
   "execution_count": null,
   "metadata": {},
   "outputs": [],
   "source": [
    "# %load exercises/exercise_loops_2.py"
   ]
  },
  {
   "cell_type": "code",
   "execution_count": null,
   "metadata": {},
   "outputs": [],
   "source": [
    "# %load Answers/answer_loops_2.py"
   ]
  },
  {
   "cell_type": "code",
   "execution_count": 17,
   "metadata": {},
   "outputs": [
    {
     "name": "stdout",
     "output_type": "stream",
     "text": [
      "24.0 = Healthy\n",
      "30.0 = Healthy\n",
      "33.0 = OverWeight\n",
      "28.0 = Healthy\n",
      "18.0 = UnderWeight\n"
     ]
    }
   ],
   "source": [
    "\n"
   ]
  },
  {
   "cell_type": "markdown",
   "metadata": {},
   "source": []
  }
 ],
 "metadata": {
  "kernelspec": {
   "display_name": "Python 3",
   "language": "python",
   "name": "python3"
  },
  "language_info": {
   "codemirror_mode": {
    "name": "ipython",
    "version": 3
   },
   "file_extension": ".py",
   "mimetype": "text/x-python",
   "name": "python",
   "nbconvert_exporter": "python",
   "pygments_lexer": "ipython3",
   "version": "3.7.3"
  }
 },
 "nbformat": 4,
 "nbformat_minor": 2
}
